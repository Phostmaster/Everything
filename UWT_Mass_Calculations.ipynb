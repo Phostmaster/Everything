{
 "cells": [
  {
   "cell_type": "code",
   "execution_count": 2,
   "id": "a96cff15-debf-4e2e-8ee5-574842e34cbd",
   "metadata": {},
   "outputs": [
    {
     "ename": "NameError",
     "evalue": "name 'least_squares' is not defined",
     "output_type": "error",
     "traceback": [
      "\u001b[31m---------------------------------------------------------------------------\u001b[39m",
      "\u001b[31mNameError\u001b[39m                                 Traceback (most recent call last)",
      "\u001b[36mCell\u001b[39m\u001b[36m \u001b[39m\u001b[32mIn[2]\u001b[39m\u001b[32m, line 18\u001b[39m\n\u001b[32m     15\u001b[39m     \u001b[38;5;28;01mreturn\u001b[39;00m Af\n\u001b[32m     17\u001b[39m x0_1a_refined = [\u001b[32m1e5\u001b[39m, \u001b[32m1.0\u001b[39m, \u001b[32m1.0\u001b[39m]\n\u001b[32m---> \u001b[39m\u001b[32m18\u001b[39m res_1a_refined = \u001b[43mleast_squares\u001b[49m(\u001b[38;5;28;01mlambda\u001b[39;00m params: residuals(params, compute_Af_1a_refined), x0_1a_refined, bounds=(\u001b[32m0\u001b[39m, np.inf))\n\u001b[32m     19\u001b[39m params_1a_refined = res_1a_refined.x\n\u001b[32m     20\u001b[39m Af_1a_refined = compute_Af_1a_refined(params_1a_refined)\n",
      "\u001b[31mNameError\u001b[39m: name 'least_squares' is not defined"
     ]
    }
   ],
   "source": [
    "# Hypothesis 1A refined: Separate p for leptons and quarks\n",
    "def compute_Af_1a_refined(params):\n",
    "    A0, p_lep, p_quark = params\n",
    "    Af = {}\n",
    "    for p in particle_list:\n",
    "        if p in gen_map:\n",
    "            n = gen_map[p]\n",
    "            Af[p] = A0 * (n**p_lep)\n",
    "        elif p in flav_map:\n",
    "            n = flav_map[p]\n",
    "            Af[p] = A0 * (n**p_quark)\n",
    "        else:\n",
    "            n = boson_map[p]\n",
    "            Af[p] = A0 * n  # Simple for bosons\n",
    "    return Af\n",
    "\n",
    "x0_1a_refined = [1e5, 1.0, 1.0]\n",
    "res_1a_refined = least_squares(lambda params: residuals(params, compute_Af_1a_refined), x0_1a_refined, bounds=(0, np.inf))\n",
    "params_1a_refined = res_1a_refined.x\n",
    "Af_1a_refined = compute_Af_1a_refined(params_1a_refined)\n",
    "pred_1a_refined = np.array([unscaled_delta_m * Af_1a_refined[p] * 1000.0 for p in particle_list])\n",
    "chi2_1a_refined = np.sum(((pred_1a_refined - obs_masses_MeV) / sigma)**2)\n",
    "dof_1a_refined = len(obs_masses_MeV) - len(params_1a_refined)\n",
    "print(\"Hypothesis 1A Refined: Separate p for leptons and quarks\")\n",
    "print(f\"Fitted A0 = {params_1a_refined[0]:.3e}, p_lep = {params_1a_refined[1]:.3f}, p_quark = {params_1a_refined[2]:.3f}\")\n",
    "print(f\"Chi2 = {chi2_1a_refined:.2f}, dof = {dof_1a_refined}, reduced chi2 = {chi2_1a_refined/dof_1a_refined:.3f}\\n\")\n",
    "\n",
    "# Hypothesis 2A: 1D standing-wave A_f = A0 * sin(n π L / λ)\n",
    "def compute_Af_2a(params):\n",
    "    A0, L, lambda_wave = params\n",
    "    Af = {}\n",
    "    for name in particle_list:\n",
    "        if name in gen_map:\n",
    "            n = gen_map[name]\n",
    "        elif name in flav_map:\n",
    "            n = flav_map[name]\n",
    "        else:\n",
    "            n = boson_map[name]\n",
    "        Af[name] = A0 * np.sin(n * np.pi * L / lambda_wave) if n > 0 else 0\n",
    "    return Af\n",
    "\n",
    "x0_2a = [1e5, 1.0, 1.0]\n",
    "res_2a = least_squares(lambda params: residuals(params, compute_Af_2a), x0_2a, bounds=([0.0,0.0,0.0], [np.inf, np.inf, np.inf]))\n",
    "params_2a = res_2a.x\n",
    "Af_2a = compute_Af_2a(params_2a)\n",
    "pred_2a = np.array([unscaled_delta_m * Af_2a[name] * 1000.0 for name in particle_list])\n",
    "chi2_2a = np.sum(((pred_2a - obs_masses_MeV) / sigma)**2)\n",
    "dof_2a = len(obs_masses_MeV) - len(params_2a)\n",
    "print(\"Hypothesis 2A: 1D standing-wave A_f = A0 * sin(n π L / λ)\")\n",
    "print(f\"Fitted A0 = {params_2a[0]:.3e}, L = {params_2a[1]:.3f}, λ = {params_2a[2]:.3f}\")\n",
    "print(f\"Chi2 = {chi2_2a:.2f}, dof = {dof_2a}, reduced chi2 = {chi2_2a/dof_2a:.3f}\\n\")"
   ]
  },
  {
   "cell_type": "code",
   "execution_count": null,
   "id": "bab326ba-6bea-429e-b98a-2cf6fe364f3d",
   "metadata": {},
   "outputs": [],
   "source": []
  },
  {
   "cell_type": "code",
   "execution_count": null,
   "id": "c5aa2108-353b-4510-af3e-b95814c07f68",
   "metadata": {},
   "outputs": [],
   "source": []
  }
 ],
 "metadata": {
  "kernelspec": {
   "display_name": "Python 3 (ipykernel)",
   "language": "python",
   "name": "python3"
  },
  "language_info": {
   "codemirror_mode": {
    "name": "ipython",
    "version": 3
   },
   "file_extension": ".py",
   "mimetype": "text/x-python",
   "name": "python",
   "nbconvert_exporter": "python",
   "pygments_lexer": "ipython3",
   "version": "3.13.7"
  }
 },
 "nbformat": 4,
 "nbformat_minor": 5
}
