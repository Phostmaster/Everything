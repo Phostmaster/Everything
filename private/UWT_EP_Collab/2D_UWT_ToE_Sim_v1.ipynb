import numpy as np
import matplotlib.pyplot as plt
from scipy.sparse.linalg import cg
from scipy.sparse import diags

print("Simulation starting...")

alpha = 1.0
g_wave = 500.0  # Adjusted to 85 based on previous runs
kappa = 5000.0
k_U = 1000.0
nr, nz = 128, 128
dr = dz = 1.0 / 40
r = np.linspace(0, 1, nr)
z = np.linspace(0, 1, nz)
R, Z = np.meshgrid(r, z)
k_damp = 5e-05
k = 0.0047
print(f"g_wave={g_wave}, k_damp={k_damp}, k_U={k_U}, alpha={alpha}, kappa={kappa}")

np.random.seed(42)
Phi1 = 0.095 * np.cos(k * (R + Z)) + 0.01 * np.random.randn(nr, nz)
Phi2 = 5.0 * np.sin(k * (R + Z) + np.pi/2) + 0.01 * np.random.randn(nr, nz)
u_r = -np.gradient(Phi1, dz, axis=1)
u_z = np.gradient(Phi1, dr, axis=0)

nt = 2100  # Steps from 19000 to 21000
dt = 1e-11
for t in range(nt):
    dPhir_1 = np.gradient(Phi1, dr, axis=1)
    dPhiz_1 = np.gradient(Phi1, dz, axis=0)
    dPhir_2 = np.gradient(Phi2, dr, axis=1)
    dPhiz_2 = np.gradient(Phi2, dz, axis=0)
    
    SNR = np.abs(Phi1 + Phi2) / (np.std(Phi1 + Phi2) + 1e-10) * (1 + 0.05 * (t + 19000))  # Adjusted for starting step
    theta = np.pi + 100 * 0.2 * np.pi / 180 * SNR * (1 + 0.3 * np.sqrt(dPhir_1**2 + dPhiz_1**2 + dPhir_2**2 + dPhiz_2**2)) + 0.05 * np.sin(0.001 * (t + 19000) * dt)
    
    laplacian = np.zeros_like(Phi1)
    phi_sum = Phi1 + Phi2
    grad_r = np.gradient(phi_sum, dr, axis=1)
    grad_r_r = np.gradient(grad_r, dr, axis=1)
    grad_z = np.gradient(phi_sum, dz, axis=0)
    grad_z_z = np.gradient(grad_z, dz, axis=0)
    laplacian[1:-1, 1:-1] = (grad_r_r[1:-1, 1:-1] + grad_z_z[1:-1, 1:-1]) / (R[1:-1, 1:-1] + 1e-10)
    
    r_safe = R + 1e-10
    dPhi1_dt = np.zeros_like(Phi1)
    dPhi2_dt = np.zeros_like(Phi2)
    dPhi1_dt[1:-1, 1:-1] = (1 / r_safe[1:-1, 1:-1]) * np.gradient(r_safe[1:-1, 1:-1] * dPhir_1[1:-1, 1:-1], axis=1) + np.gradient(dPhiz_1[1:-1, 1:-1], axis=0) - k_U * (2 * Phi1[1:-1, 1:-1] + Phi2[1:-1, 1:-1]) - alpha * Phi2[1:-1, 1:-1] * np.cos(0.0047 * R[1:-1, 1:-1] + theta[1:-1, 1:-1]) - g_wave * laplacian[1:-1, 1:-1] - k_damp * Phi1[1:-1, 1:-1]
    dPhi2_dt[1:-1, 1:-1] = (1 / r_safe[1:-1, 1:-1]) * np.gradient(r_safe[1:-1, 1:-1] * dPhir_2[1:-1, 1:-1], axis=1) + np.gradient(dPhiz_2[1:-1, 1:-1], axis=0) - k_U * (Phi1[1:-1, 1:-1] + 2 * Phi2[1:-1, 1:-1]) - alpha * Phi1[1:-1, 1:-1] * np.cos(0.0047 * R[1:-1, 1:-1] + theta[1:-1, 1:-1]) - g_wave * laplacian[1:-1, 1:-1] - k_damp * Phi2[1:-1, 1:-1]
    
    if np.any(np.isnan(dPhi1_dt)) or np.any(np.isnan(dPhi2_dt)) or np.any(np.isinf(dPhi1_dt)) or np.any(np.isinf(dPhi2_dt)):
        print(f"Crash detected at step {t + 19000}")
        break
    
    Phi1 += dPhi1_dt * dt
    Phi2 += dPhi2_dt * dt
    
    u_r_new = -np.gradient(Phi1, dz, axis=1)
    u_z_new = np.gradient(Phi1, dr, axis=0)
    div_u = (1 / r_safe) * np.gradient(r_safe * u_r_new, axis=1) + np.gradient(u_z_new, axis=0)
    
    nri, nzi = nr-2, nz-2
    diagonals = [-np.ones(nri*nzi), 4*np.ones(nri*nzi), -np.ones(nri*nzi)]
    offsets = [-nri, 0, nri]
    A = diags(diagonals, offsets, shape=(nri*nzi, nri*nzi))
    p = np.zeros((nr, nz))
    rhs = -dr**2 * div_u[1:-1, 1:-1].flatten()
    p_inner, info = cg(A, rhs, rtol=1e-7)  # Adjusted rtol
    if info != 0:
        print(f"CG failed at step {t + 19000} with info {info}")
        break
    p[1:-1, 1:-1] = p_inner.reshape(nri, nzi)
    
    dp_dr = np.gradient(p, dr, axis=1)
    dp_dz = np.gradient(p, dz, axis=0)
    u_r = u_r_new - dp_dr
    u_z = u_z_new - dp_dz
    
    div_u = (1 / r_safe) * np.gradient(r_safe * u_r, axis=1) + np.gradient(u_z, axis=0)
    
    if (t + 19000) % 100 == 0 or t == 470:  # Check every 100 steps and exactly at 19470
        max_vel = np.max(np.sqrt(u_r**2 + u_z**2))
        max_div = np.max(np.abs(div_u))
        max_coh = np.max(kappa * (0.001 + 0.0005 * np.abs(Phi1 + Phi2)))
        print(f"Step {t + 19000}: Max Velocity = {max_vel:.3e} m/s, Divergence = {max_div:.3e}, Coherence = {max_coh:.3f}sigma")

if t == nt - 1:
    plt.contourf(R, Z, np.sqrt(u_r**2 + u_z**2))
    plt.colorbar(label='Velocity (m/s)')
    plt.title('Velocity Field (2D Axisymmetric)')
    plt.xlabel('r (m)')
    plt.ylabel('z (m)')
    plt.savefig('velocity_field.png')
    plt.close()

print("Simulation completed!")

RESULTS:

Simulation starting...
g_wave=500.0, k_damp=5e-05, k_U=1000.0, alpha=1.0, kappa=5000.0
Step 19000: Max Velocity = 1.991e+00 m/s, Divergence = 6.012e+07, Coherence = 17.897sigma
Step 19100: Max Velocity = 2.215e+00 m/s, Divergence = 6.082e+07, Coherence = 17.897sigma
Step 19200: Max Velocity = 2.611e+00 m/s, Divergence = 6.308e+07, Coherence = 17.908sigma
Step 19300: Max Velocity = 3.154e+00 m/s, Divergence = 6.579e+07, Coherence = 17.973sigma
Step 19400: Max Velocity = 3.901e+00 m/s, Divergence = 6.878e+07, Coherence = 18.067sigma
Step 19470: Max Velocity = 4.586e+00 m/s, Divergence = 7.105e+07, Coherence = 18.153sigma
Step 19500: Max Velocity = 4.931e+00 m/s, Divergence = 7.207e+07, Coherence = 18.197sigma
Step 19600: Max Velocity = 6.354e+00 m/s, Divergence = 7.570e+07, Coherence = 18.375sigma
Step 19700: Max Velocity = 8.324e+00 m/s, Divergence = 7.971e+07, Coherence = 18.621sigma
Step 19800: Max Velocity = 1.106e+01 m/s, Divergence = 8.413e+07, Coherence = 18.963sigma
Step 19900: Max Velocity = 1.486e+01 m/s, Divergence = 8.902e+07, Coherence = 19.438sigma
Step 20000: Max Velocity = 2.016e+01 m/s, Divergence = 9.443e+07, Coherence = 20.099sigma
Step 20100: Max Velocity = 2.756e+01 m/s, Divergence = 1.004e+08, Coherence = 21.022sigma
Step 20200: Max Velocity = 3.790e+01 m/s, Divergence = 1.114e+08, Coherence = 22.311sigma
Step 20300: Max Velocity = 5.237e+01 m/s, Divergence = 1.244e+08, Coherence = 24.117sigma
Step 20400: Max Velocity = 7.266e+01 m/s, Divergence = 1.394e+08, Coherence = 26.648sigma
Step 20500: Max Velocity = 1.011e+02 m/s, Divergence = 1.563e+08, Coherence = 30.200sigma
Step 20600: Max Velocity = 1.412e+02 m/s, Divergence = 1.757e+08, Coherence = 35.190sigma
Step 20700: Max Velocity = 1.974e+02 m/s, Divergence = 1.979e+08, Coherence = 42.206sigma
Step 20800: Max Velocity = 2.766e+02 m/s, Divergence = 2.232e+08, Coherence = 52.080sigma
Step 20900: Max Velocity = 3.881e+02 m/s, Divergence = 2.545e+08, Coherence = 65.985sigma
Step 21000: Max Velocity = 5.453e+02 m/s, Divergence = 2.914e+08, Coherence = 85.580sigma
Simulation completed!