import numpy as np

# Constants (replace with exact values from your draft)
kappa = 1.23e-5  # Example κ value
lambda_ = 0.5    # Example λ (dimensionless)
phi_squared = 2.76e-7  # Example |Φ|²

particles = ["electron", "muon", "up_quark"]  # Expand with all SM particles
Af_values = {"electron": 1.0, "muon": 2.0, "up_quark": 0.5}  # Example Af values

for particle in particles:
    Af = Af_values[particle]
    intermediate = kappa * Af**3 / (2 * lambda_)
    delta_E_phi = intermediate * phi_squared  # Placeholder for ΔEΦ
    mass = delta_E_phi  # Replace with your exact mass formula
    print(f"{particle.upper()} Mass Calculation:")
    print(f"Af = {Af}")
    print(f"κ·Af³/(2λ) = {intermediate}")
    print(f"ΔEΦ = {delta_E_phi}")
    print(f"Predicted Mass = {mass} GeV\n")

# Save and commit to GitHub