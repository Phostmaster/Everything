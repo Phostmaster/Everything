import numpy as np
from scipy.optimize import least_squares

# ---------- constants ----------
k_fit = 1.0
g_m = 1e-2
phi1_phi2 = 4.75e-4  # GeV^2
lambda_h = 1e-3
v = 0.226
phi_squared = v**2
g_wave = 0.085
# convert Newton G to GeV^-2 (as you used)
G = 6.67430e-11 / (0.19732698**2 * 1e-6)
R = 1e-4  # Ricci scalar in GeV^2
# couplings
alpha_em = 1/137.035999084
alpha_s = 0.118
alpha_0 = alpha_em
alpha_s0 = 0.118
# ---------- derived baseline ----------
term1 = lambda_h * phi_squared * v**2 / v**2  # simplifies
term2 = g_wave * R / (16 * np.pi * G)
unscaled_delta_m = k_fit * g_m * phi1_phi2 * (term1 + term2)  # GeV
print(f"Baseline unscaled Δm = {unscaled_delta_m:.6e} GeV\n")
# ---------- PDG masses (MeV) ----------
pdg_masses = {
    "electron": 0.510998, "muon": 105.658, "tau": 1776.86,
    "up_quark": 2.16, "down_quark": 4.67, "strange": 93.4,
    "charm": 1275, "bottom": 4180, "top": 172500,
    "neutrino": 0.02,  # placeholder
    "W_boson": 80390, "Z_boson": 91187, "Higgs": 125100
}
# ---------- tuned Af (calibration) ----------
tuned_Af = {p: m / (unscaled_delta_m * 1000.0) for p, m in pdg_masses.items()}  # dimensionless
# Diagnostics: medians
lepton_med = np.median([tuned_Af[p] for p in ("electron", "muon", "tau")])
quark_med = np.median([tuned_Af[p] for p in ("up_quark", "down_quark", "strange", "charm", "bottom", "top")])
boson_med = np.median([tuned_Af[p] for p in ("W_boson", "Z_boson", "Higgs")])
print("Tuned Af medians:", "lepton", lepton_med, "quark", quark_med, "boson", boson_med, "\n")
# ---------- model maps ----------
gen_map = {"electron": 1, "muon": 2, "tau": 3}
flav_map = {"up_quark": 1, "down_quark": 2, "strange": 3, "charm": 4, "bottom": 5, "top": 6}
boson_map = {"W_boson": 1, "Z_boson": 1, "Higgs": 2}
# ---------- Af model ----------
def compute_theoretical_Af(params):
    # params = [A0_lepton, A0_quark, A0_boson, p_lep, p_quark, c_em, c_s]
    A0_lepton, A0_quark, A0_boson, p_lep, p_quark, c_em, c_s = params
    Af = {}
    for name in pdg_masses:
        if name in gen_map:
            n = gen_map[name]
            Af[name] = A0_lepton * (n**p_lep) * (1.0 + c_em * (alpha_em / alpha_0))
        elif name in flav_map:
            n = flav_map[name]
            Af[name] = A0_quark * (n**p_quark) * (1.0 + c_s * (alpha_s / alpha_s0))
        elif name == "neutrino":
            Af[name] = A0_lepton * (1**p_lep) * (1.0 + c_em * (alpha_em / alpha_0)) * 0.05
        else:  # bosons
            n = boson_map[name]
            Af[name] = A0_boson * (n**1.0) * (1.0 + 0.05 * (alpha_em / alpha_0))
    return Af
# ---------- residuals: (pred - obs)/sigma in MeV ----------
frac_uncertainty_default = 0.01  # 1% conservative uncertainties
particle_list = list(pdg_masses.keys())
obs_masses_MeV = np.array([pdg_masses[p] for p in particle_list])
def residuals(params):
    Af_th = compute_theoretical_Af(params)
    pred = np.array([unscaled_delta_m * Af_th[p] * 1000.0 for p in particle_list])
    sigma = np.array([max(frac_uncertainty_default * m, 1e-6) for m in obs_masses_MeV])
    return (pred - obs_masses_MeV) / sigma
# ---------- initial guesses: use tuned medians with adjusted p_lep ----------
x0 = [
    lepton_med,  # A0_lepton
    quark_med,   # A0_quark
    boson_med,   # A0_boson
    2.0,         # p_lep (lowered to moderate scaling)
    1.0,         # p_quark
    0.1,         # c_em (positive)
    0.1          # c_s (positive)
]
# bounds: keep exponents reasonable, enforce positive couplings
lower = [0, 0, 0, 0.0, 0.0, 0, 0]  # c_em, c_s >= 0
upper = [np.inf, np.inf, np.inf, 5.0, 5.0, 5.0, 5.0]
res = least_squares(residuals, x0, bounds=(lower, upper), xtol=1e-12, ftol=1e-12, max_nfev=10000)
params_fit = res.x
A0_lepton_fit, A0_quark_fit, A0_boson_fit, p_lep_fit, p_quark_fit, c_em_fit, c_s_fit = params_fit
print("Fitted params:")
print(f"A0_lepton = {A0_lepton_fit:.3e}")
print(f"A0_quark = {A0_quark_fit:.3e}")
print(f"A0_boson = {A0_boson_fit:.3e}")
print(f"p_lep = {p_lep_fit:.3f}")
print(f"p_quark = {p_quark_fit:.3f}")
print(f"c_em = {c_em_fit:.3f}")
print(f"c_s = {c_s_fit:.3f}\n")
# ---------- produce table ----------
Af_fit = compute_theoretical_Af(params_fit)
pred_masses_fit = np.array([unscaled_delta_m * Af_fit[p] * 1000.0 for p in particle_list])
sigma = np.array([max(frac_uncertainty_default * m, 1e-6) for m in obs_masses_MeV])
print("Particle Tuned_Af Pred(MeV) Obs(MeV) RelErr(%)")
for i, p in enumerate(particle_list):
    tuned_mass = unscaled_delta_m * tuned_Af[p] * 1000.0
    print(f"{p:<12} {tuned_Af[p]:.3e} {pred_masses_fit[i]:10.3f} {pdg_masses[p]:10.3f} {(pred_masses_fit[i]-pdg_masses[p])/pdg_masses[p]*100 if pdg_masses[p]!=0 else np.nan:8.2f}")
# ---------- chi2 ----------
chi2 = np.sum(((pred_masses_fit - obs_masses_MeV) / sigma)**2)
dof = len(obs_masses_MeV) - len(params_fit)
print(f"\nChi2 = {chi2:.2f}, dof = {dof}, reduced chi2 = {chi2/dof if dof>0 else np.nan:.3f}")