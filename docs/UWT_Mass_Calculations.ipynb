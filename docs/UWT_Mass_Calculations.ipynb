import numpy as np
from scipy.optimize import least_squares

# ---------- constants (from your script) ----------
k_fit = 1.0
g_m = 1e-2
phi1_phi2 = 4.75e-4  # GeV^2
lambda_h = 1e-3
v = 0.226
phi_squared = v**2
g_wave = 0.085
# convert Newton G to GeV^-2 (your conversion)
G = 6.67430e-11 / (0.19732698**2 * 1e-6)
R = 1e-4  # Ricci scalar in GeV^2
# couplings
alpha_em = 1/137.035999084
alpha_s = 0.118  # approx at ~GeV scale
# reference normalizations
alpha_0 = alpha_em
alpha_s0 = 0.118
# ---------- derived baseline ----------
term1 = lambda_h * phi_squared * v**2 / v**2  # simplifies to lambda_h * phi_squared
term2 = g_wave * R / (16 * np.pi * G)
unscaled_delta_m = k_fit * g_m * phi1_phi2 * (term1 + term2)  # GeV
print(f"Baseline unscaled Δm = {unscaled_delta_m:.6e} GeV\n")
# ---------- PDG masses (MeV) ----------
pdg_masses = {
    "electron": 0.510998, "muon": 105.658, "tau": 1776.86,
    "up_quark": 2.16, "down_quark": 4.67, "strange": 93.4,
    "charm": 1275, "bottom": 4180, "top": 172500,
    "neutrino": 0.02,  # placeholder
    "W_boson": 80390, "Z_boson": 91187, "Higgs": 125100
}
# ---------- tuned Af (from PDG, calibration) ----------
tuned_Af = {p: m / (unscaled_delta_m * 1000.0) for p, m in pdg_masses.items()}  # dimensionless Af
# ---------- theoretical Af template (shape factors) ----------
gen_map = {"electron": 1, "muon": 2, "tau": 3}  # Removed neutrino
flav_map = {"up_quark": 1, "down_quark": 2, "strange": 3, "charm": 4, "bottom": 5, "top": 6}
boson_map = {"W_boson": 1, "Z_boson": 1, "Higgs": 2}  # Simple index for bosons
def compute_theoretical_Af(params):
    A0_lepton, A0_quark, A0_boson, p, c_em, c_s = params
    Af = {}
    for p_name in pdg_masses.keys():
        if p_name in gen_map:
            n = gen_map[p_name]
            Af[p_name] = A0_lepton * (n**p) * (1.0 + c_em * (alpha_em / alpha_0))
        elif p_name in flav_map:
            n = flav_map[p_name]
            Af[p_name] = A0_quark * (n**p) * (1.0 + c_s * (alpha_s / alpha_s0))
        else:
            if p_name == "neutrino":
                Af[p_name] = A0_lepton * (1**p) * (1.0 + c_em * (alpha_em / alpha_0)) * 0.1
            else:  # Bosons
                n = boson_map[p_name]
                Af[p_name] = A0_boson * (n**p) * (1.0 + c_em * (alpha_em / alpha_0))
    return Af
# ---------- objective for least-squares: residuals in MeV divided by sigma ----------
frac_uncertainty_default = 0.001  # 0.1% uncertainty
particle_list = list(pdg_masses.keys())
obs_masses_MeV = np.array([pdg_masses[p] for p in particle_list])
def residuals(params):
    Af_theory = compute_theoretical_Af(params)
    pred_masses = np.array([unscaled_delta_m * Af_theory[p] * 1000.0 for p in particle_list])  # MeV
    sigma = np.array([max(frac_uncertainty_default * m, 1e-6) for m in obs_masses_MeV])  # Avoid zero sigma
    res = (pred_masses - obs_masses_MeV) / sigma
    return res
# ---------- initial guess (positive values, boosted A0_lepton and A0_boson) ----------
tuned_lepton_median = np.median([tuned_Af[p] for p in gen_map.keys()])
tuned_quark_median = np.median([tuned_Af[p] for p in flav_map.keys()])
tuned_boson_median = np.median([tuned_Af[p] for p in ["W_boson", "Z_boson", "Higgs"]])
x0 = [1e8, tuned_quark_median, 1.13e11, 2.0, 0.1, 0.1]  # Higher A0_lepton, A0_boson to tuned median
# run least-squares fit with bounds (p >= 1.5)
bounds = ([0, 0, 0, 1.5, 0, 0], [np.inf, np.inf, np.inf, np.inf, np.inf, np.inf])
res = least_squares(residuals, x0, bounds=bounds, xtol=1e-12, ftol=1e-12, max_nfev=5000)
A0_lepton_fit, A0_quark_fit, A0_boson_fit, p_fit, c_em_fit, c_s_fit = res.x
print("Fitted params:")
print(f"A0_lepton = {A0_lepton_fit:.3e}")
print(f"A0_quark = {A0_quark_fit:.3e}")
print(f"A0_boson = {A0_boson_fit:.3e}")
print(f"p = {p_fit:.3f}")
print(f"c_em = {c_em_fit:.3f}")
print(f"c_s = {c_s_fit:.3f}\n")

# Compute fitted theoretical Af and masses
Af_theory_fit = compute_theoretical_Af([A0_lepton_fit, A0_quark_fit, A0_boson_fit, p_fit, c_em_fit, c_s_fit])
pred_masses_fit = np.array([unscaled_delta_m * Af_theory_fit[p] * 1000.0 for p in particle_list])
sigma = np.array([max(frac_uncertainty_default * m, 1e-6) for m in obs_masses_MeV])

# Print comparison table
print("Mass Comparison Table (MeV):")
print("Particle    Tuned Mass    Theoretical Mass    PDG Mass    Relative Error (%)")
for i, p in enumerate(particle_list):
    tuned_mass = unscaled_delta_m * tuned_Af[p] * 1000.0
    pred_mass = pred_masses_fit[i]
    rel_error = (pred_mass - pdg_masses[p]) / pdg_masses[p] * 100 if pdg_masses[p] != 0 else 0
    print(f"{p:<12} {tuned_mass:.3f}          {pred_mass:.3f}          {pdg_masses[p]:.3f}          {rel_error:.2f}")

# Compute chi-squared
chi_squared_tuned = 0
chi_squared_theory = 0
dof = 0
for i, p in enumerate(particle_list):
    if pdg_masses[p] != 0:  # Skip massless particles
        error_tuned = (unscaled_delta_m * tuned_Af[p] * 1000.0 - pdg_masses[p]) / (0.001 * pdg_masses[p])
        chi_squared_tuned += error_tuned**2
        error_theory = (pred_masses_fit[i] - pdg_masses[p]) / sigma[i]
        chi_squared_theory += error_theory**2
        dof += 1

print(f"\nChi-squared (tuned) = {chi_squared_tuned:.2f} with {dof} degrees of freedom")
print(f"Chi-squared (theory) = {chi_squared_theory:.2f} with {dof} degrees of freedom")