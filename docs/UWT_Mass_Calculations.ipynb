Baseline unscaled Δm = 7.112192e-10 GeV

Note: Tuned Af values are derived from PDG masses (calibration).
Potential weakness: Tunable Af may suggest over-fitting unless derived from first principles (e.g., symmetry, wave numbers).
Theoretical Af uses integer multiples as a hypothesis for prediction.

ELECTRON Mass Calculation (Tuned Af):
Af (tuned) = 7.184817e+05
λ_h |Φ|² |h|² / v² = 5.107600e-05 GeV²
g_wave R / (16πG) = 9.865436e-05 GeV²
Δm (before scaling) = 7.112192e-10 GeV
Predicted Mass (tuned) = 0.510998 MeV

PDG 2025 Mass = 0.510998 MeV
Relative Error (tuned) = 0.00%

ELECTRON Mass Calculation (Theoretical Af):
Af (theory) = 1.000000e+00
Predicted Mass (theory) = 7.11219211825789e-07 MeV

Relative Error (theory) = -100.00%

MUON Mass Calculation (Tuned Af):
Af (tuned) = 1.485590e+08
λ_h |Φ|² |h|² / v² = 5.107600e-05 GeV²
g_wave R / (16πG) = 9.865436e-05 GeV²
Δm (before scaling) = 7.112192e-10 GeV
Predicted Mass (tuned) = 105.658 MeV

PDG 2025 Mass = 105.658 MeV
Relative Error (tuned) = 0.00%

MUON Mass Calculation (Theoretical Af):
Af (theory) = 2.000000e+00
Predicted Mass (theory) = 1.422438423651578e-06 MeV

Relative Error (theory) = -100.00%

TAU Mass Calculation (Tuned Af):
Af (tuned) = 2.498330e+09
λ_h |Φ|² |h|² / v² = 5.107600e-05 GeV²
g_wave R / (16πG) = 9.865436e-05 GeV²
Δm (before scaling) = 7.112192e-10 GeV
Predicted Mass (tuned) = 1776.8599999999997 MeV

PDG 2025 Mass = 1776.86 MeV
Relative Error (tuned) = -0.00%

TAU Mass Calculation (Theoretical Af):
Af (theory) = 3.000000e+00
Predicted Mass (theory) = 2.1336576354773668e-06 MeV

Relative Error (theory) = -100.00%

UP_QUARK Mass Calculation (Tuned Af):
Af (tuned) = 3.037038e+06
λ_h |Φ|² |h|² / v² = 5.107600e-05 GeV²
g_wave R / (16πG) = 9.865436e-05 GeV²
Δm (before scaling) = 7.112192e-10 GeV
Predicted Mass (tuned) = 2.16 MeV

PDG 2025 Mass = 2.16 MeV
Relative Error (tuned) = 0.00%

UP_QUARK Mass Calculation (Theoretical Af):
Af (theory) = 1.000000e+00
Predicted Mass (theory) = 7.11219211825789e-07 MeV

Relative Error (theory) = -100.00%

DOWN_QUARK Mass Calculation (Tuned Af):
Af (tuned) = 6.566189e+06
λ_h |Φ|² |h|² / v² = 5.107600e-05 GeV²
g_wave R / (16πG) = 9.865436e-05 GeV²
Δm (before scaling) = 7.112192e-10 GeV
Predicted Mass (tuned) = 4.67 MeV

PDG 2025 Mass = 4.67 MeV
Relative Error (tuned) = 0.00%

DOWN_QUARK Mass Calculation (Theoretical Af):
Af (theory) = 2.000000e+00
Predicted Mass (theory) = 1.422438423651578e-06 MeV

Relative Error (theory) = -100.00%

STRANGE Mass Calculation (Tuned Af):
Af (tuned) = 1.313238e+08
λ_h |Φ|² |h|² / v² = 5.107600e-05 GeV²
g_wave R / (16πG) = 9.865436e-05 GeV²
Δm (before scaling) = 7.112192e-10 GeV
Predicted Mass (tuned) = 93.39999999999999 MeV

PDG 2025 Mass = 93.4 MeV
Relative Error (tuned) = -0.00%

STRANGE Mass Calculation (Theoretical Af):
Af (theory) = 3.000000e+00
Predicted Mass (theory) = 2.1336576354773668e-06 MeV

Relative Error (theory) = -100.00%

CHARM Mass Calculation (Tuned Af):
Af (tuned) = 1.792696e+09
λ_h |Φ|² |h|² / v² = 5.107600e-05 GeV²
g_wave R / (16πG) = 9.865436e-05 GeV²
Δm (before scaling) = 7.112192e-10 GeV
Predicted Mass (tuned) = 1275.0 MeV

PDG 2025 Mass = 1275 MeV
Relative Error (tuned) = 0.00%

CHARM Mass Calculation (Theoretical Af):
Af (theory) = 4.000000e+00
Predicted Mass (theory) = 2.844876847303156e-06 MeV

Relative Error (theory) = -100.00%

BOTTOM Mass Calculation (Tuned Af):
Af (tuned) = 5.877232e+09
λ_h |Φ|² |h|² / v² = 5.107600e-05 GeV²
g_wave R / (16πG) = 9.865436e-05 GeV²
Δm (before scaling) = 7.112192e-10 GeV
Predicted Mass (tuned) = 4180.0 MeV

PDG 2025 Mass = 4180 MeV
Relative Error (tuned) = 0.00%

BOTTOM Mass Calculation (Theoretical Af):
Af (theory) = 5.000000e+00
Predicted Mass (theory) = 3.556096059128945e-06 MeV

Relative Error (theory) = -100.00%

TOP Mass Calculation (Tuned Af):
Af (tuned) = 2.425413e+11
λ_h |Φ|² |h|² / v² = 5.107600e-05 GeV²
g_wave R / (16πG) = 9.865436e-05 GeV²
Δm (before scaling) = 7.112192e-10 GeV
Predicted Mass (tuned) = 172499.99999999997 MeV

PDG 2025 Mass = 172500 MeV
Relative Error (tuned) = -0.00%

TOP Mass Calculation (Theoretical Af):
Af (theory) = 6.000000e+00
Predicted Mass (theory) = 4.2673152709547335e-06 MeV

Relative Error (theory) = -100.00%

NEUTRINO Mass Calculation (Tuned Af):
Af (tuned) = 2.812073e+04
λ_h |Φ|² |h|² / v² = 5.107600e-05 GeV²
g_wave R / (16πG) = 9.865436e-05 GeV²
Δm (before scaling) = 7.112192e-10 GeV
Predicted Mass (tuned) = 0.019999999999999997 MeV

PDG 2025 Mass = 0.02 MeV
Relative Error (tuned) = -0.00%

NEUTRINO Mass Calculation (Theoretical Af):
Af (theory) = 1.000000e+00
Predicted Mass (theory) = 7.11219211825789e-07 MeV

Relative Error (theory) = -100.00%

PHOTON Mass Calculation (Tuned Af):
Af (tuned) = 0.000000e+00
λ_h |Φ|² |h|² / v² = 5.107600e-05 GeV²
g_wave R / (16πG) = 9.865436e-05 GeV²
Δm (before scaling) = 7.112192e-10 GeV
Predicted Mass (tuned) = 0.0 MeV

PDG 2025 Mass = 0 MeV
PHOTON Mass Calculation (Theoretical Af):
Af (theory) = 0.000000e+00
Predicted Mass (theory) = 0.0 MeV

GLUON Mass Calculation (Tuned Af):
Af (tuned) = 0.000000e+00
λ_h |Φ|² |h|² / v² = 5.107600e-05 GeV²
g_wave R / (16πG) = 9.865436e-05 GeV²
Δm (before scaling) = 7.112192e-10 GeV
Predicted Mass (tuned) = 0.0 MeV

PDG 2025 Mass = 0 MeV
GLUON Mass Calculation (Theoretical Af):
Af (theory) = 0.000000e+00
Predicted Mass (theory) = 0.0 MeV

W_BOSON Mass Calculation (Tuned Af):
Af (tuned) = 1.130313e+11
λ_h |Φ|² |h|² / v² = 5.107600e-05 GeV²
g_wave R / (16πG) = 9.865436e-05 GeV²
Δm (before scaling) = 7.112192e-10 GeV
Predicted Mass (tuned) = 80390.0 MeV

PDG 2025 Mass = 80390 MeV
Relative Error (tuned) = 0.00%

W_BOSON Mass Calculation (Theoretical Af):
Af (theory) = 1.000000e+00
Predicted Mass (theory) = 7.11219211825789e-07 MeV

Relative Error (theory) = -100.00%

Z_BOSON Mass Calculation (Tuned Af):
Af (tuned) = 1.282122e+11
λ_h |Φ|² |h|² / v² = 5.107600e-05 GeV²
g_wave R / (16πG) = 9.865436e-05 GeV²
Δm (before scaling) = 7.112192e-10 GeV
Predicted Mass (tuned) = 91187.0 MeV

PDG 2025 Mass = 91187 MeV
Relative Error (tuned) = 0.00%

Z_BOSON Mass Calculation (Theoretical Af):
Af (theory) = 1.000000e+00
Predicted Mass (theory) = 7.11219211825789e-07 MeV

Relative Error (theory) = -100.00%

HIGGS Mass Calculation (Tuned Af):
Af (tuned) = 1.758951e+11
λ_h |Φ|² |h|² / v² = 5.107600e-05 GeV²
g_wave R / (16πG) = 9.865436e-05 GeV²
Δm (before scaling) = 7.112192e-10 GeV
Predicted Mass (tuned) = 125100.0 MeV

PDG 2025 Mass = 125100 MeV
Relative Error (tuned) = 0.00%

HIGGS Mass Calculation (Theoretical Af):
Af (theory) = 2.000000e+00
Predicted Mass (theory) = 1.422438423651578e-06 MeV

Relative Error (theory) = -100.00%

Chi-squared (tuned) = 0.00 with 13 degrees of freedom
Chi-squared (theory) = 0.00 with 13 degrees of freedom